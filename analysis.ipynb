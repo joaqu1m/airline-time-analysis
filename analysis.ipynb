{
 "cells": [
  {
   "cell_type": "code",
   "execution_count": 1,
   "metadata": {},
   "outputs": [],
   "source": [
    "import pandas as pd"
   ]
  },
  {
   "cell_type": "code",
   "execution_count": 2,
   "metadata": {},
   "outputs": [],
   "source": [
    "df = pd.read_csv('trusted/combined.csv')"
   ]
  },
  {
   "cell_type": "code",
   "execution_count": 3,
   "metadata": {},
   "outputs": [
    {
     "name": "stdout",
     "output_type": "stream",
     "text": [
      "   DiaSemana CompanhiaResponsavel  FlightNum TailNum  ActualElapsedTime  \\\n",
      "0          6                   PI        801     NaN               23.0   \n",
      "1          4                   HP        226     NaN               88.0   \n",
      "2          4                   PI         79     NaN               84.0   \n",
      "3          1                   DL        653     NaN              116.0   \n",
      "4          3                   AA       2277     NaN               85.0   \n",
      "\n",
      "   CRSElapsedTime  AirTime  ArrDelay  DepDelay Origin  ... CarrierDelay  \\\n",
      "0            28.0      NaN      12.0      17.0    MIA  ...          NaN   \n",
      "1            65.0      NaN      28.0       5.0    LAX  ...          NaN   \n",
      "2            69.0      NaN      17.0       2.0    BOS  ...          NaN   \n",
      "3           105.0      NaN      24.0      13.0    DFW  ...          NaN   \n",
      "4            86.0      NaN       7.0       8.0    SNA  ...          NaN   \n",
      "\n",
      "   WeatherDelay  NASDelay  SecurityDelay  LateAircraftDelay        Data  \\\n",
      "0           NaN       NaN            NaN                NaN  1987-11-28   \n",
      "1           NaN       NaN            NaN                NaN  1987-10-22   \n",
      "2           NaN       NaN            NaN                NaN  1987-11-19   \n",
      "3           NaN       NaN            NaN                NaN  1987-11-23   \n",
      "4           NaN       NaN            NaN                NaN  1987-11-25   \n",
      "\n",
      "   HoraPartida  HoraPartidaPrevista  HoraChegada  HoraChegadaPrevista  \n",
      "0     20:42:00             20:25:00     21:05:00             20:53:00  \n",
      "1     18:05:00             18:00:00     19:33:00             19:05:00  \n",
      "2     06:57:00             06:55:00     08:21:00             08:04:00  \n",
      "3     18:48:00             18:35:00     19:44:00             19:20:00  \n",
      "4     07:03:00             06:55:00     08:28:00             08:21:00  \n",
      "\n",
      "[5 rows x 25 columns]\n"
     ]
    }
   ],
   "source": [
    "print(df.head())"
   ]
  },
  {
   "cell_type": "code",
   "execution_count": 4,
   "metadata": {},
   "outputs": [],
   "source": [
    "before_event = df[df['Data'] < '2001-09-11']\n",
    "after_event = df[df['Data'] >= '2001-09-11']"
   ]
  },
  {
   "cell_type": "code",
   "execution_count": null,
   "metadata": {},
   "outputs": [],
   "source": []
  }
 ],
 "metadata": {
  "kernelspec": {
   "display_name": "Python 3",
   "language": "python",
   "name": "python3"
  },
  "language_info": {
   "codemirror_mode": {
    "name": "ipython",
    "version": 3
   },
   "file_extension": ".py",
   "mimetype": "text/x-python",
   "name": "python",
   "nbconvert_exporter": "python",
   "pygments_lexer": "ipython3",
   "version": "3.12.6"
  }
 },
 "nbformat": 4,
 "nbformat_minor": 2
}
