{
 "cells": [
  {
   "cell_type": "code",
   "execution_count": 2,
   "metadata": {},
   "outputs": [],
   "source": [
    "import pandas as pd"
   ]
  },
  {
   "cell_type": "code",
   "execution_count": 3,
   "metadata": {},
   "outputs": [],
   "source": [
    "df = pd.read_csv('trusted/combined.csv')"
   ]
  },
  {
   "cell_type": "code",
   "execution_count": 4,
   "metadata": {},
   "outputs": [],
   "source": [
    "df['Data'] = pd.to_datetime(df['Data'])"
   ]
  },
  {
   "cell_type": "code",
   "execution_count": 5,
   "metadata": {},
   "outputs": [],
   "source": [
    "def show_info(series: pd.Series):\n",
    "\tprint(series.describe())\n",
    "\tprint(series.value_counts())\n",
    "\tprint(series.isnull().sum())"
   ]
  },
  {
   "cell_type": "code",
   "execution_count": 6,
   "metadata": {},
   "outputs": [
    {
     "data": {
      "text/plain": [
       "DiaSemana                              int64\n",
       "CompanhiaResponsavel                  object\n",
       "NumeroAeronave                        object\n",
       "TempoTotal                           float64\n",
       "TempoTotalPrevisto                   float64\n",
       "TempoVoando                          float64\n",
       "AtrasoChegada                        float64\n",
       "AtrasoPartida                        float64\n",
       "AeroportoOrigem                       object\n",
       "AeroportoDestino                      object\n",
       "Distancia                            float64\n",
       "TaxiIn                               float64\n",
       "TaxiOut                              float64\n",
       "DesviouRota                            int64\n",
       "AtrasoCompanhia                      float64\n",
       "AtrasoClimaTempo                     float64\n",
       "AtrasoSistemaAereo                   float64\n",
       "AtrasoSeguranca                      float64\n",
       "AtrasoAeronave                       float64\n",
       "Data                          datetime64[ns]\n",
       "HoraPartida                           object\n",
       "HoraPartidaMinutos                     int64\n",
       "HoraPartidaPrevista                   object\n",
       "HoraPartidaPrevistaMinutos             int64\n",
       "HoraChegada                           object\n",
       "HoraChegadaMinutos                   float64\n",
       "HoraChegadaPrevista                   object\n",
       "HoraChegadaPrevistaMinutos             int64\n",
       "dtype: object"
      ]
     },
     "execution_count": 6,
     "metadata": {},
     "output_type": "execute_result"
    }
   ],
   "source": [
    "df.dtypes"
   ]
  },
  {
   "cell_type": "code",
   "execution_count": 7,
   "metadata": {},
   "outputs": [
    {
     "name": "stdout",
     "output_type": "stream",
     "text": [
      "   DiaSemana CompanhiaResponsavel NumeroAeronave  TempoTotal  \\\n",
      "0          6                   PI            NaN        23.0   \n",
      "1          4                   HP            NaN        88.0   \n",
      "2          4                   PI            NaN        84.0   \n",
      "3          1                   DL            NaN       116.0   \n",
      "4          3                   AA            NaN        85.0   \n",
      "\n",
      "   TempoTotalPrevisto  TempoVoando  AtrasoChegada  AtrasoPartida  \\\n",
      "0                28.0          NaN           12.0           17.0   \n",
      "1                65.0          NaN           28.0            5.0   \n",
      "2                69.0          NaN           17.0            2.0   \n",
      "3               105.0          NaN           24.0           13.0   \n",
      "4                86.0          NaN            7.0            8.0   \n",
      "\n",
      "  AeroportoOrigem AeroportoDestino  ...  AtrasoAeronave       Data  \\\n",
      "0             MIA              FLL  ...             0.0 1987-11-28   \n",
      "1             LAX              PHX  ...             0.0 1987-10-22   \n",
      "2             BOS              EWR  ...             0.0 1987-11-19   \n",
      "3             DFW              DEN  ...             0.0 1987-11-23   \n",
      "4             SNA              OAK  ...             0.0 1987-11-25   \n",
      "\n",
      "   HoraPartida  HoraPartidaMinutos  HoraPartidaPrevista  \\\n",
      "0     20:42:00                1242             20:25:00   \n",
      "1     18:05:00                1085             18:00:00   \n",
      "2     06:57:00                 417             06:55:00   \n",
      "3     18:48:00                1128             18:35:00   \n",
      "4     07:03:00                 423             06:55:00   \n",
      "\n",
      "   HoraPartidaPrevistaMinutos  HoraChegada  HoraChegadaMinutos  \\\n",
      "0                        1225     21:05:00              1265.0   \n",
      "1                        1080     19:33:00              1173.0   \n",
      "2                         415     08:21:00               501.0   \n",
      "3                        1115     19:44:00              1184.0   \n",
      "4                         415     08:28:00               508.0   \n",
      "\n",
      "   HoraChegadaPrevista HoraChegadaPrevistaMinutos  \n",
      "0             20:53:00                       1253  \n",
      "1             19:05:00                       1145  \n",
      "2             08:04:00                        484  \n",
      "3             19:20:00                       1160  \n",
      "4             08:21:00                        501  \n",
      "\n",
      "[5 rows x 28 columns]\n"
     ]
    }
   ],
   "source": [
    "print(df.head())"
   ]
  },
  {
   "cell_type": "code",
   "execution_count": 8,
   "metadata": {},
   "outputs": [
    {
     "data": {
      "text/plain": [
       "Index(['DiaSemana', 'CompanhiaResponsavel', 'NumeroAeronave', 'TempoTotal',\n",
       "       'TempoTotalPrevisto', 'TempoVoando', 'AtrasoChegada', 'AtrasoPartida',\n",
       "       'AeroportoOrigem', 'AeroportoDestino', 'Distancia', 'TaxiIn', 'TaxiOut',\n",
       "       'DesviouRota', 'AtrasoCompanhia', 'AtrasoClimaTempo',\n",
       "       'AtrasoSistemaAereo', 'AtrasoSeguranca', 'AtrasoAeronave', 'Data',\n",
       "       'HoraPartida', 'HoraPartidaMinutos', 'HoraPartidaPrevista',\n",
       "       'HoraPartidaPrevistaMinutos', 'HoraChegada', 'HoraChegadaMinutos',\n",
       "       'HoraChegadaPrevista', 'HoraChegadaPrevistaMinutos'],\n",
       "      dtype='object')"
      ]
     },
     "execution_count": 8,
     "metadata": {},
     "output_type": "execute_result"
    }
   ],
   "source": [
    "df.columns"
   ]
  },
  {
   "cell_type": "code",
   "execution_count": 39,
   "metadata": {},
   "outputs": [
    {
     "data": {
      "text/html": [
       "<div>\n",
       "<style scoped>\n",
       "    .dataframe tbody tr th:only-of-type {\n",
       "        vertical-align: middle;\n",
       "    }\n",
       "\n",
       "    .dataframe tbody tr th {\n",
       "        vertical-align: top;\n",
       "    }\n",
       "\n",
       "    .dataframe thead th {\n",
       "        text-align: right;\n",
       "    }\n",
       "</style>\n",
       "<table border=\"1\" class=\"dataframe\">\n",
       "  <thead>\n",
       "    <tr style=\"text-align: right;\">\n",
       "      <th></th>\n",
       "      <th>mean</th>\n",
       "      <th>count</th>\n",
       "    </tr>\n",
       "    <tr>\n",
       "      <th>CompanhiaResponsavel</th>\n",
       "      <th></th>\n",
       "      <th></th>\n",
       "    </tr>\n",
       "  </thead>\n",
       "  <tbody>\n",
       "    <tr>\n",
       "      <th>AQ</th>\n",
       "      <td>13.187500</td>\n",
       "      <td>16</td>\n",
       "    </tr>\n",
       "    <tr>\n",
       "      <th>PI</th>\n",
       "      <td>25.666667</td>\n",
       "      <td>354</td>\n",
       "    </tr>\n",
       "    <tr>\n",
       "      <th>HA</th>\n",
       "      <td>30.380952</td>\n",
       "      <td>21</td>\n",
       "    </tr>\n",
       "    <tr>\n",
       "      <th>DL</th>\n",
       "      <td>35.481625</td>\n",
       "      <td>3619</td>\n",
       "    </tr>\n",
       "    <tr>\n",
       "      <th>US</th>\n",
       "      <td>36.405970</td>\n",
       "      <td>3015</td>\n",
       "    </tr>\n",
       "    <tr>\n",
       "      <th>F9</th>\n",
       "      <td>39.232558</td>\n",
       "      <td>43</td>\n",
       "    </tr>\n",
       "    <tr>\n",
       "      <th>HP</th>\n",
       "      <td>40.251645</td>\n",
       "      <td>608</td>\n",
       "    </tr>\n",
       "    <tr>\n",
       "      <th>AA</th>\n",
       "      <td>41.992751</td>\n",
       "      <td>2621</td>\n",
       "    </tr>\n",
       "    <tr>\n",
       "      <th>WN</th>\n",
       "      <td>42.872364</td>\n",
       "      <td>2703</td>\n",
       "    </tr>\n",
       "    <tr>\n",
       "      <th>UA</th>\n",
       "      <td>46.816311</td>\n",
       "      <td>2673</td>\n",
       "    </tr>\n",
       "    <tr>\n",
       "      <th>ML (1)</th>\n",
       "      <td>48.500000</td>\n",
       "      <td>6</td>\n",
       "    </tr>\n",
       "    <tr>\n",
       "      <th>CO</th>\n",
       "      <td>48.838571</td>\n",
       "      <td>1400</td>\n",
       "    </tr>\n",
       "    <tr>\n",
       "      <th>TW</th>\n",
       "      <td>49.534338</td>\n",
       "      <td>597</td>\n",
       "    </tr>\n",
       "    <tr>\n",
       "      <th>NW</th>\n",
       "      <td>51.779094</td>\n",
       "      <td>1435</td>\n",
       "    </tr>\n",
       "    <tr>\n",
       "      <th>AS</th>\n",
       "      <td>53.406181</td>\n",
       "      <td>453</td>\n",
       "    </tr>\n",
       "    <tr>\n",
       "      <th>9E</th>\n",
       "      <td>55.392157</td>\n",
       "      <td>51</td>\n",
       "    </tr>\n",
       "    <tr>\n",
       "      <th>OO</th>\n",
       "      <td>56.518519</td>\n",
       "      <td>351</td>\n",
       "    </tr>\n",
       "    <tr>\n",
       "      <th>B6</th>\n",
       "      <td>58.876923</td>\n",
       "      <td>130</td>\n",
       "    </tr>\n",
       "    <tr>\n",
       "      <th>PA (1)</th>\n",
       "      <td>62.200000</td>\n",
       "      <td>35</td>\n",
       "    </tr>\n",
       "    <tr>\n",
       "      <th>PS</th>\n",
       "      <td>64.433333</td>\n",
       "      <td>60</td>\n",
       "    </tr>\n",
       "    <tr>\n",
       "      <th>MQ</th>\n",
       "      <td>68.725352</td>\n",
       "      <td>568</td>\n",
       "    </tr>\n",
       "    <tr>\n",
       "      <th>EV</th>\n",
       "      <td>69.788235</td>\n",
       "      <td>255</td>\n",
       "    </tr>\n",
       "    <tr>\n",
       "      <th>FL</th>\n",
       "      <td>70.438889</td>\n",
       "      <td>180</td>\n",
       "    </tr>\n",
       "    <tr>\n",
       "      <th>XE</th>\n",
       "      <td>72.147368</td>\n",
       "      <td>285</td>\n",
       "    </tr>\n",
       "    <tr>\n",
       "      <th>EA</th>\n",
       "      <td>72.266187</td>\n",
       "      <td>139</td>\n",
       "    </tr>\n",
       "    <tr>\n",
       "      <th>OH</th>\n",
       "      <td>78.418994</td>\n",
       "      <td>179</td>\n",
       "    </tr>\n",
       "    <tr>\n",
       "      <th>YV</th>\n",
       "      <td>80.116279</td>\n",
       "      <td>86</td>\n",
       "    </tr>\n",
       "    <tr>\n",
       "      <th>DH</th>\n",
       "      <td>83.921569</td>\n",
       "      <td>102</td>\n",
       "    </tr>\n",
       "    <tr>\n",
       "      <th>TZ</th>\n",
       "      <td>107.200000</td>\n",
       "      <td>15</td>\n",
       "    </tr>\n",
       "  </tbody>\n",
       "</table>\n",
       "</div>"
      ],
      "text/plain": [
       "                            mean  count\n",
       "CompanhiaResponsavel                   \n",
       "AQ                     13.187500     16\n",
       "PI                     25.666667    354\n",
       "HA                     30.380952     21\n",
       "DL                     35.481625   3619\n",
       "US                     36.405970   3015\n",
       "F9                     39.232558     43\n",
       "HP                     40.251645    608\n",
       "AA                     41.992751   2621\n",
       "WN                     42.872364   2703\n",
       "UA                     46.816311   2673\n",
       "ML (1)                 48.500000      6\n",
       "CO                     48.838571   1400\n",
       "TW                     49.534338    597\n",
       "NW                     51.779094   1435\n",
       "AS                     53.406181    453\n",
       "9E                     55.392157     51\n",
       "OO                     56.518519    351\n",
       "B6                     58.876923    130\n",
       "PA (1)                 62.200000     35\n",
       "PS                     64.433333     60\n",
       "MQ                     68.725352    568\n",
       "EV                     69.788235    255\n",
       "FL                     70.438889    180\n",
       "XE                     72.147368    285\n",
       "EA                     72.266187    139\n",
       "OH                     78.418994    179\n",
       "YV                     80.116279     86\n",
       "DH                     83.921569    102\n",
       "TZ                    107.200000     15"
      ]
     },
     "execution_count": 39,
     "metadata": {},
     "output_type": "execute_result"
    }
   ],
   "source": [
    "valores_nao_nulos = df.dropna(subset=['AtrasoPartida', 'AtrasoChegada'])\n",
    "valores_nao_nulos['AtrasoTotal'] = valores_nao_nulos['AtrasoPartida'] + valores_nao_nulos['AtrasoChegada']\n",
    "\n",
    "valores_nao_nulos.groupby('CompanhiaResponsavel')['AtrasoTotal'].agg(['mean', 'count']).sort_values(by='mean', ascending=True)"
   ]
  },
  {
   "cell_type": "code",
   "execution_count": 36,
   "metadata": {},
   "outputs": [
    {
     "data": {
      "text/plain": [
       "<Axes: title={'center': 'Porcentagem de atrasos por motivo'}>"
      ]
     },
     "execution_count": 36,
     "metadata": {},
     "output_type": "execute_result"
    },
    {
     "data": {
      "image/png": "[encoded data removed]",
      "text/plain": [
       "<Figure size 640x480 with 1 Axes>"
      ]
     },
     "metadata": {},
     "output_type": "display_data"
    }
   ],
   "source": [
    "atrasos = ['AtrasoCompanhia', 'AtrasoClimaTempo', 'AtrasoSistemaAereo', 'AtrasoSeguranca', 'AtrasoAeronave']\n",
    "valores_nao_nulos = df.dropna(subset=atrasos)\n",
    "prct_atrasos = valores_nao_nulos[atrasos].mean() / valores_nao_nulos[atrasos].mean().sum() * 100\n",
    "\n",
    "prct_atrasos.sort_values(ascending=False).plot(kind='pie', title='Porcentagem de atrasos por motivo')"
   ]
  },
  {
   "cell_type": "markdown",
   "metadata": {},
   "source": [
    "## Análise de negligência"
   ]
  },
  {
   "cell_type": "code",
   "execution_count": 19,
   "metadata": {},
   "outputs": [
    {
     "data": {
      "text/plain": [
       "<Axes: xlabel='Ano'>"
      ]
     },
     "execution_count": 19,
     "metadata": {},
     "output_type": "execute_result"
    },
    {
     "data": {
      "image/png": "[encoded data removed]",
      "text/plain": [
       "<Figure size 640x480 with 1 Axes>"
      ]
     },
     "metadata": {},
     "output_type": "display_data"
    }
   ],
   "source": [
    "df['Ano'] = df['Data'].dt.year\n",
    "df.groupby('Ano')['DesviouRota'].mean().plot(kind='bar')"
   ]
  },
  {
   "cell_type": "code",
   "execution_count": 20,
   "metadata": {},
   "outputs": [
    {
     "data": {
      "text/plain": [
       "<Axes: xlabel='Ano'>"
      ]
     },
     "execution_count": 20,
     "metadata": {},
     "output_type": "execute_result"
    },
    {
     "data": {
      "image/png": "[encoded data removed]",
      "text/plain": [
       "<Figure size 640x480 with 1 Axes>"
      ]
     },
     "metadata": {},
     "output_type": "display_data"
    }
   ],
   "source": [
    "df['Ano'] = df['Data'].dt.year\n",
    "atrasos = ['AtrasoPartida', 'AtrasoCompanhia', 'AtrasoSistemaAereo']\n",
    "df.groupby('Ano')[atrasos].mean().plot(kind='bar')"
   ]
  }
 ],
 "metadata": {
  "kernelspec": {
   "display_name": "Python 3",
   "language": "python",
   "name": "python3"
  },
  "language_info": {
   "codemirror_mode": {
    "name": "ipython",
    "version": 3
   },
   "file_extension": ".py",
   "mimetype": "text/x-python",
   "name": "python",
   "nbconvert_exporter": "python",
   "pygments_lexer": "ipython3",
   "version": "3.12.6"
  }
 },
 "nbformat": 4,
 "nbformat_minor": 2
}
