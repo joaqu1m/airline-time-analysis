{
 "cells": [
  {
   "cell_type": "code",
   "execution_count": 26,
   "metadata": {},
   "outputs": [],
   "source": [
    "%%capture\n",
    "%pip install pandas"
   ]
  },
  {
   "cell_type": "code",
   "execution_count": 27,
   "metadata": {},
   "outputs": [],
   "source": [
    "import pandas as pd"
   ]
  },
  {
   "cell_type": "code",
   "execution_count": 28,
   "metadata": {},
   "outputs": [],
   "source": [
    "df = pd.read_csv('raw/combined-original.csv')"
   ]
  },
  {
   "cell_type": "code",
   "execution_count": 29,
   "metadata": {},
   "outputs": [
    {
     "name": "stdout",
     "output_type": "stream",
     "text": [
      "   Unnamed: 0  Year  Month  DayofMonth  DayOfWeek  DepTime  CRSDepTime  \\\n",
      "0           0  1987     11          28          6   2042.0        2025   \n",
      "1           1  1987     10          22          4   1805.0        1800   \n",
      "2           2  1987     11          19          4    657.0         655   \n",
      "3           3  1987     11          23          1   1848.0        1835   \n",
      "4           4  1987     11          25          3    703.0         655   \n",
      "\n",
      "   ArrTime  CRSArrTime UniqueCarrier  ...  TaxiIn TaxiOut  Cancelled  \\\n",
      "0   2105.0        2053            PI  ...     NaN     NaN          0   \n",
      "1   1933.0        1905            HP  ...     NaN     NaN          0   \n",
      "2    821.0         804            PI  ...     NaN     NaN          0   \n",
      "3   1944.0        1920            DL  ...     NaN     NaN          0   \n",
      "4    828.0         821            AA  ...     NaN     NaN          0   \n",
      "\n",
      "   CancellationCode  Diverted  CarrierDelay  WeatherDelay NASDelay  \\\n",
      "0               NaN         0           NaN           NaN      NaN   \n",
      "1               NaN         0           NaN           NaN      NaN   \n",
      "2               NaN         0           NaN           NaN      NaN   \n",
      "3               NaN         0           NaN           NaN      NaN   \n",
      "4               NaN         0           NaN           NaN      NaN   \n",
      "\n",
      "  SecurityDelay  LateAircraftDelay  \n",
      "0           NaN                NaN  \n",
      "1           NaN                NaN  \n",
      "2           NaN                NaN  \n",
      "3           NaN                NaN  \n",
      "4           NaN                NaN  \n",
      "\n",
      "[5 rows x 30 columns]\n"
     ]
    }
   ],
   "source": [
    "print(df.head())"
   ]
  },
  {
   "cell_type": "code",
   "execution_count": 30,
   "metadata": {},
   "outputs": [],
   "source": [
    "df.drop(['Unnamed: 0'], axis=1, inplace=True)"
   ]
  },
  {
   "cell_type": "code",
   "execution_count": 31,
   "metadata": {},
   "outputs": [],
   "source": [
    "df.rename(columns={'DayOfWeek': 'DiaSemana', 'UniqueCarrier': 'CompanhiaResponsavel'}, inplace=True)"
   ]
  },
  {
   "cell_type": "code",
   "execution_count": 32,
   "metadata": {},
   "outputs": [],
   "source": [
    "df.rename(columns={'DayofMonth': 'Day'}, inplace=True)\n",
    "df['Data'] = pd.to_datetime(df[['Year', 'Month', 'Day']])\n",
    "df.drop(['Year', 'Month', 'Day'], axis=1, inplace=True)"
   ]
  },
  {
   "cell_type": "code",
   "execution_count": 33,
   "metadata": {},
   "outputs": [
    {
     "name": "stdout",
     "output_type": "stream",
     "text": [
      "0\n"
     ]
    }
   ],
   "source": [
    "# quero ver se Data possui algum NaN\n",
    "\n",
    "print(df['Data'].isnull().sum())\n",
    "\n",
    "# não possui"
   ]
  },
  {
   "cell_type": "code",
   "execution_count": 34,
   "metadata": {},
   "outputs": [],
   "source": [
    "# Acabei percebendo que CancellationCode só possui valores NaN\n",
    "\n",
    "df.drop(['CancellationCode'], axis=1, inplace=True)"
   ]
  },
  {
   "cell_type": "code",
   "execution_count": 35,
   "metadata": {},
   "outputs": [],
   "source": [
    "# Também reparei que consequentemente nenhum voo foi cancelado\n",
    "\n",
    "df.drop(['Cancelled'], axis=1, inplace=True)"
   ]
  },
  {
   "cell_type": "code",
   "execution_count": 36,
   "metadata": {},
   "outputs": [],
   "source": [
    "# Existem colunas vindo como float porém no formato hhmm, bora transformar em hh:mm e manter os NaN como NaN\n",
    "\n",
    "def format_time(val):\n",
    "    if pd.isna(val):\n",
    "        return val\n",
    "    onlynumber = str(int(val)).zfill(4)\n",
    "    return onlynumber[:2] + \":\" + onlynumber[2:] + \":00\""
   ]
  },
  {
   "cell_type": "code",
   "execution_count": 37,
   "metadata": {},
   "outputs": [],
   "source": [
    "df['HoraPartida'] = df['DepTime'].apply(format_time)\n",
    "df['HoraPartidaPrevista'] = df['CRSDepTime'].apply(format_time)\n",
    "df['HoraChegada'] = df['ArrTime'].apply(format_time)\n",
    "df['HoraChegadaPrevista'] = df['CRSArrTime'].apply(format_time)\n",
    "df.drop(['DepTime', 'CRSDepTime', 'ArrTime', 'CRSArrTime'], axis=1, inplace=True)"
   ]
  },
  {
   "cell_type": "code",
   "execution_count": 38,
   "metadata": {},
   "outputs": [
    {
     "data": {
      "text/html": [
       "<div>\n",
       "<style scoped>\n",
       "    .dataframe tbody tr th:only-of-type {\n",
       "        vertical-align: middle;\n",
       "    }\n",
       "\n",
       "    .dataframe tbody tr th {\n",
       "        vertical-align: top;\n",
       "    }\n",
       "\n",
       "    .dataframe thead th {\n",
       "        text-align: right;\n",
       "    }\n",
       "</style>\n",
       "<table border=\"1\" class=\"dataframe\">\n",
       "  <thead>\n",
       "    <tr style=\"text-align: right;\">\n",
       "      <th></th>\n",
       "      <th>TaxiIn</th>\n",
       "      <th>TaxiOut</th>\n",
       "      <th>Diverted</th>\n",
       "      <th>CarrierDelay</th>\n",
       "      <th>WeatherDelay</th>\n",
       "      <th>NASDelay</th>\n",
       "      <th>SecurityDelay</th>\n",
       "      <th>LateAircraftDelay</th>\n",
       "      <th>HoraPartidaPrevista</th>\n",
       "      <th>HoraPartida</th>\n",
       "      <th>HoraChegadaPrevista</th>\n",
       "      <th>HoraChegada</th>\n",
       "    </tr>\n",
       "  </thead>\n",
       "  <tbody>\n",
       "    <tr>\n",
       "      <th>0</th>\n",
       "      <td>NaN</td>\n",
       "      <td>NaN</td>\n",
       "      <td>0</td>\n",
       "      <td>NaN</td>\n",
       "      <td>NaN</td>\n",
       "      <td>NaN</td>\n",
       "      <td>NaN</td>\n",
       "      <td>NaN</td>\n",
       "      <td>20:25:00</td>\n",
       "      <td>20:42:00</td>\n",
       "      <td>20:53:00</td>\n",
       "      <td>21:05:00</td>\n",
       "    </tr>\n",
       "    <tr>\n",
       "      <th>1</th>\n",
       "      <td>NaN</td>\n",
       "      <td>NaN</td>\n",
       "      <td>0</td>\n",
       "      <td>NaN</td>\n",
       "      <td>NaN</td>\n",
       "      <td>NaN</td>\n",
       "      <td>NaN</td>\n",
       "      <td>NaN</td>\n",
       "      <td>18:00:00</td>\n",
       "      <td>18:05:00</td>\n",
       "      <td>19:05:00</td>\n",
       "      <td>19:33:00</td>\n",
       "    </tr>\n",
       "    <tr>\n",
       "      <th>2</th>\n",
       "      <td>NaN</td>\n",
       "      <td>NaN</td>\n",
       "      <td>0</td>\n",
       "      <td>NaN</td>\n",
       "      <td>NaN</td>\n",
       "      <td>NaN</td>\n",
       "      <td>NaN</td>\n",
       "      <td>NaN</td>\n",
       "      <td>06:55:00</td>\n",
       "      <td>06:57:00</td>\n",
       "      <td>08:04:00</td>\n",
       "      <td>08:21:00</td>\n",
       "    </tr>\n",
       "    <tr>\n",
       "      <th>3</th>\n",
       "      <td>NaN</td>\n",
       "      <td>NaN</td>\n",
       "      <td>0</td>\n",
       "      <td>NaN</td>\n",
       "      <td>NaN</td>\n",
       "      <td>NaN</td>\n",
       "      <td>NaN</td>\n",
       "      <td>NaN</td>\n",
       "      <td>18:35:00</td>\n",
       "      <td>18:48:00</td>\n",
       "      <td>19:20:00</td>\n",
       "      <td>19:44:00</td>\n",
       "    </tr>\n",
       "    <tr>\n",
       "      <th>4</th>\n",
       "      <td>NaN</td>\n",
       "      <td>NaN</td>\n",
       "      <td>0</td>\n",
       "      <td>NaN</td>\n",
       "      <td>NaN</td>\n",
       "      <td>NaN</td>\n",
       "      <td>NaN</td>\n",
       "      <td>NaN</td>\n",
       "      <td>06:55:00</td>\n",
       "      <td>07:03:00</td>\n",
       "      <td>08:21:00</td>\n",
       "      <td>08:28:00</td>\n",
       "    </tr>\n",
       "    <tr>\n",
       "      <th>...</th>\n",
       "      <td>...</td>\n",
       "      <td>...</td>\n",
       "      <td>...</td>\n",
       "      <td>...</td>\n",
       "      <td>...</td>\n",
       "      <td>...</td>\n",
       "      <td>...</td>\n",
       "      <td>...</td>\n",
       "      <td>...</td>\n",
       "      <td>...</td>\n",
       "      <td>...</td>\n",
       "      <td>...</td>\n",
       "    </tr>\n",
       "    <tr>\n",
       "      <th>21995</th>\n",
       "      <td>5.0</td>\n",
       "      <td>10.0</td>\n",
       "      <td>0</td>\n",
       "      <td>NaN</td>\n",
       "      <td>NaN</td>\n",
       "      <td>NaN</td>\n",
       "      <td>NaN</td>\n",
       "      <td>NaN</td>\n",
       "      <td>07:30:00</td>\n",
       "      <td>07:31:00</td>\n",
       "      <td>09:05:00</td>\n",
       "      <td>09:06:00</td>\n",
       "    </tr>\n",
       "    <tr>\n",
       "      <th>21996</th>\n",
       "      <td>2.0</td>\n",
       "      <td>8.0</td>\n",
       "      <td>0</td>\n",
       "      <td>NaN</td>\n",
       "      <td>NaN</td>\n",
       "      <td>NaN</td>\n",
       "      <td>NaN</td>\n",
       "      <td>NaN</td>\n",
       "      <td>15:30:00</td>\n",
       "      <td>15:41:00</td>\n",
       "      <td>16:30:00</td>\n",
       "      <td>16:36:00</td>\n",
       "    </tr>\n",
       "    <tr>\n",
       "      <th>21997</th>\n",
       "      <td>6.0</td>\n",
       "      <td>28.0</td>\n",
       "      <td>0</td>\n",
       "      <td>129.0</td>\n",
       "      <td>0.0</td>\n",
       "      <td>0.0</td>\n",
       "      <td>0.0</td>\n",
       "      <td>0.0</td>\n",
       "      <td>12:00:00</td>\n",
       "      <td>14:22:00</td>\n",
       "      <td>16:50:00</td>\n",
       "      <td>18:59:00</td>\n",
       "    </tr>\n",
       "    <tr>\n",
       "      <th>21998</th>\n",
       "      <td>2.0</td>\n",
       "      <td>11.0</td>\n",
       "      <td>0</td>\n",
       "      <td>NaN</td>\n",
       "      <td>NaN</td>\n",
       "      <td>NaN</td>\n",
       "      <td>NaN</td>\n",
       "      <td>NaN</td>\n",
       "      <td>16:40:00</td>\n",
       "      <td>16:44:00</td>\n",
       "      <td>17:45:00</td>\n",
       "      <td>17:46:00</td>\n",
       "    </tr>\n",
       "    <tr>\n",
       "      <th>21999</th>\n",
       "      <td>23.0</td>\n",
       "      <td>9.0</td>\n",
       "      <td>0</td>\n",
       "      <td>101.0</td>\n",
       "      <td>0.0</td>\n",
       "      <td>11.0</td>\n",
       "      <td>0.0</td>\n",
       "      <td>0.0</td>\n",
       "      <td>16:32:00</td>\n",
       "      <td>18:13:00</td>\n",
       "      <td>18:00:00</td>\n",
       "      <td>19:52:00</td>\n",
       "    </tr>\n",
       "  </tbody>\n",
       "</table>\n",
       "<p>22000 rows × 12 columns</p>\n",
       "</div>"
      ],
      "text/plain": [
       "       TaxiIn  TaxiOut  Diverted  CarrierDelay  WeatherDelay  NASDelay  \\\n",
       "0         NaN      NaN         0           NaN           NaN       NaN   \n",
       "1         NaN      NaN         0           NaN           NaN       NaN   \n",
       "2         NaN      NaN         0           NaN           NaN       NaN   \n",
       "3         NaN      NaN         0           NaN           NaN       NaN   \n",
       "4         NaN      NaN         0           NaN           NaN       NaN   \n",
       "...       ...      ...       ...           ...           ...       ...   \n",
       "21995     5.0     10.0         0           NaN           NaN       NaN   \n",
       "21996     2.0      8.0         0           NaN           NaN       NaN   \n",
       "21997     6.0     28.0         0         129.0           0.0       0.0   \n",
       "21998     2.0     11.0         0           NaN           NaN       NaN   \n",
       "21999    23.0      9.0         0         101.0           0.0      11.0   \n",
       "\n",
       "       SecurityDelay  LateAircraftDelay HoraPartidaPrevista HoraPartida  \\\n",
       "0                NaN                NaN            20:25:00    20:42:00   \n",
       "1                NaN                NaN            18:00:00    18:05:00   \n",
       "2                NaN                NaN            06:55:00    06:57:00   \n",
       "3                NaN                NaN            18:35:00    18:48:00   \n",
       "4                NaN                NaN            06:55:00    07:03:00   \n",
       "...              ...                ...                 ...         ...   \n",
       "21995            NaN                NaN            07:30:00    07:31:00   \n",
       "21996            NaN                NaN            15:30:00    15:41:00   \n",
       "21997            0.0                0.0            12:00:00    14:22:00   \n",
       "21998            NaN                NaN            16:40:00    16:44:00   \n",
       "21999            0.0                0.0            16:32:00    18:13:00   \n",
       "\n",
       "      HoraChegadaPrevista HoraChegada  \n",
       "0                20:53:00    21:05:00  \n",
       "1                19:05:00    19:33:00  \n",
       "2                08:04:00    08:21:00  \n",
       "3                19:20:00    19:44:00  \n",
       "4                08:21:00    08:28:00  \n",
       "...                   ...         ...  \n",
       "21995            09:05:00    09:06:00  \n",
       "21996            16:30:00    16:36:00  \n",
       "21997            16:50:00    18:59:00  \n",
       "21998            17:45:00    17:46:00  \n",
       "21999            18:00:00    19:52:00  \n",
       "\n",
       "[22000 rows x 12 columns]"
      ]
     },
     "execution_count": 38,
     "metadata": {},
     "output_type": "execute_result"
    }
   ],
   "source": [
    "# Vamos checar a relação entre esses valores:\n",
    "\n",
    "df[['TaxiIn', 'TaxiOut', 'Diverted', 'CarrierDelay', 'WeatherDelay', 'NASDelay', 'SecurityDelay', 'LateAircraftDelay',  'HoraPartidaPrevista', 'HoraPartida', 'HoraChegadaPrevista', 'HoraChegada']]\n",
    "\n",
    "# Como podemos ver a partir das linhas 21997 e 21999:\n",
    "# - Os valores de atraso dizem respeito ao atraso à hora de partida\n",
    "# - Também existe um delay adicional não calculado\n",
    "# - Os valores de TaxiIn e TaxiOut já estão inclusos na hora prevista, ou seja, não são atrasos"
   ]
  },
  {
   "cell_type": "code",
   "execution_count": 39,
   "metadata": {},
   "outputs": [
    {
     "name": "stdout",
     "output_type": "stream",
     "text": [
      "count    13996.000000\n",
      "mean         6.626107\n",
      "std         25.262758\n",
      "min          0.000000\n",
      "25%          4.000000\n",
      "50%          5.000000\n",
      "75%          7.000000\n",
      "max       1449.000000\n",
      "Name: TaxiIn, dtype: float64\n",
      "TaxiIn\n",
      "5.0     2416\n",
      "4.0     2385\n",
      "3.0     2074\n",
      "6.0     1636\n",
      "7.0     1177\n",
      "        ... \n",
      "90.0       1\n",
      "67.0       1\n",
      "96.0       1\n",
      "61.0       1\n",
      "99.0       1\n",
      "Name: count, Length: 71, dtype: int64\n",
      "8004\n"
     ]
    }
   ],
   "source": [
    "print(df['TaxiIn'].describe())\n",
    "print(df['TaxiIn'].value_counts())\n",
    "print(df['TaxiIn'].isnull().sum())"
   ]
  },
  {
   "cell_type": "code",
   "execution_count": 40,
   "metadata": {},
   "outputs": [
    {
     "data": {
      "text/plain": [
       "Index(['DiaSemana', 'CompanhiaResponsavel', 'FlightNum', 'TailNum',\n",
       "       'ActualElapsedTime', 'CRSElapsedTime', 'AirTime', 'ArrDelay',\n",
       "       'DepDelay', 'Origin', 'Dest', 'Distance', 'TaxiIn', 'TaxiOut',\n",
       "       'Diverted', 'CarrierDelay', 'WeatherDelay', 'NASDelay', 'SecurityDelay',\n",
       "       'LateAircraftDelay', 'Data', 'HoraPartida', 'HoraPartidaPrevista',\n",
       "       'HoraChegada', 'HoraChegadaPrevista'],\n",
       "      dtype='object')"
      ]
     },
     "execution_count": 40,
     "metadata": {},
     "output_type": "execute_result"
    }
   ],
   "source": [
    "df.columns"
   ]
  },
  {
   "cell_type": "code",
   "execution_count": 41,
   "metadata": {},
   "outputs": [],
   "source": [
    "df.to_csv('trusted/combined.csv', index=False)"
   ]
  }
 ],
 "metadata": {
  "kernelspec": {
   "display_name": "Python 3",
   "language": "python",
   "name": "python3"
  },
  "language_info": {
   "codemirror_mode": {
    "name": "ipython",
    "version": 3
   },
   "file_extension": ".py",
   "mimetype": "text/x-python",
   "name": "python",
   "nbconvert_exporter": "python",
   "pygments_lexer": "ipython3",
   "version": "3.12.6"
  }
 },
 "nbformat": 4,
 "nbformat_minor": 2
}
