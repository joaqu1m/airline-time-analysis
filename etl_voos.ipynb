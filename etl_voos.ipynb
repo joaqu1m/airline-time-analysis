{
 "cells": [
  {
   "cell_type": "code",
   "execution_count": 271,
   "metadata": {},
   "outputs": [],
   "source": [
    "import pandas as pd\n",
    "import numpy as np"
   ]
  },
  {
   "cell_type": "code",
   "execution_count": 272,
   "metadata": {},
   "outputs": [],
   "source": [
    "df = pd.read_csv('raw/combined-original.csv')"
   ]
  },
  {
   "cell_type": "code",
   "execution_count": 273,
   "metadata": {},
   "outputs": [
    {
     "name": "stdout",
     "output_type": "stream",
     "text": [
      "   Unnamed: 0  Year  Month  DayofMonth  DayOfWeek  DepTime  CRSDepTime  \\\n",
      "0           0  1987     11          28          6   2042.0        2025   \n",
      "1           1  1987     10          22          4   1805.0        1800   \n",
      "2           2  1987     11          19          4    657.0         655   \n",
      "3           3  1987     11          23          1   1848.0        1835   \n",
      "4           4  1987     11          25          3    703.0         655   \n",
      "\n",
      "   ArrTime  CRSArrTime UniqueCarrier  ...  TaxiIn TaxiOut  Cancelled  \\\n",
      "0   2105.0        2053            PI  ...     NaN     NaN          0   \n",
      "1   1933.0        1905            HP  ...     NaN     NaN          0   \n",
      "2    821.0         804            PI  ...     NaN     NaN          0   \n",
      "3   1944.0        1920            DL  ...     NaN     NaN          0   \n",
      "4    828.0         821            AA  ...     NaN     NaN          0   \n",
      "\n",
      "   CancellationCode  Diverted  CarrierDelay  WeatherDelay NASDelay  \\\n",
      "0               NaN         0           NaN           NaN      NaN   \n",
      "1               NaN         0           NaN           NaN      NaN   \n",
      "2               NaN         0           NaN           NaN      NaN   \n",
      "3               NaN         0           NaN           NaN      NaN   \n",
      "4               NaN         0           NaN           NaN      NaN   \n",
      "\n",
      "  SecurityDelay  LateAircraftDelay  \n",
      "0           NaN                NaN  \n",
      "1           NaN                NaN  \n",
      "2           NaN                NaN  \n",
      "3           NaN                NaN  \n",
      "4           NaN                NaN  \n",
      "\n",
      "[5 rows x 30 columns]\n"
     ]
    }
   ],
   "source": [
    "print(df.head())"
   ]
  },
  {
   "cell_type": "code",
   "execution_count": 274,
   "metadata": {},
   "outputs": [],
   "source": [
    "df.drop(['Unnamed: 0'], axis=1, inplace=True)"
   ]
  },
  {
   "cell_type": "code",
   "execution_count": 275,
   "metadata": {},
   "outputs": [],
   "source": [
    "df.rename(columns={'DayofMonth': 'Day'}, inplace=True)\n",
    "df['Date'] = pd.to_datetime(df[['Year', 'Month', 'Day']])\n",
    "df.drop(['Year', 'Month', 'Day'], axis=1, inplace=True)"
   ]
  },
  {
   "cell_type": "code",
   "execution_count": 276,
   "metadata": {},
   "outputs": [
    {
     "name": "stdout",
     "output_type": "stream",
     "text": [
      "0\n"
     ]
    }
   ],
   "source": [
    "# quero ver se Date possui algum NaN\n",
    "\n",
    "print(df['Date'].isnull().sum())\n",
    "\n",
    "# não possui"
   ]
  },
  {
   "cell_type": "code",
   "execution_count": 277,
   "metadata": {},
   "outputs": [],
   "source": [
    "# Acabei percebendo que CancellationCode só possui valores NaN\n",
    "\n",
    "df.drop(['CancellationCode'], axis=1, inplace=True)"
   ]
  },
  {
   "cell_type": "code",
   "execution_count": 278,
   "metadata": {},
   "outputs": [],
   "source": [
    "# Também reparei que consequentemente nenhum voo foi cancelado\n",
    "\n",
    "df.drop(['Cancelled'], axis=1, inplace=True)"
   ]
  },
  {
   "cell_type": "code",
   "execution_count": 280,
   "metadata": {},
   "outputs": [],
   "source": [
    "# ArrTime está vindo como float no formato hhmm, bora transformar em hh:mm e manter os NaN como NaN\n",
    "\n",
    "arrTime = df[\"ArrTime\"].copy()\n",
    "\n",
    "def format_time(val):\n",
    "    if pd.isna(val):\n",
    "        return val\n",
    "    onlynumber = str(int(val)).zfill(4)\n",
    "    return onlynumber[:2] + \":\" + onlynumber[2:]\n",
    "\n",
    "df[\"ArrTime\"] = arrTime.apply(format_time)"
   ]
  },
  {
   "cell_type": "code",
   "execution_count": 281,
   "metadata": {},
   "outputs": [],
   "source": [
    "df.to_csv('trusted/combined.csv', index=False)"
   ]
  }
 ],
 "metadata": {
  "kernelspec": {
   "display_name": "Python 3",
   "language": "python",
   "name": "python3"
  },
  "language_info": {
   "codemirror_mode": {
    "name": "ipython",
    "version": 3
   },
   "file_extension": ".py",
   "mimetype": "text/x-python",
   "name": "python",
   "nbconvert_exporter": "python",
   "pygments_lexer": "ipython3",
   "version": "3.10.12"
  }
 },
 "nbformat": 4,
 "nbformat_minor": 2
}
