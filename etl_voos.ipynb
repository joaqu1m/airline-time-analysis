{
 "cells": [
  {
   "cell_type": "code",
   "execution_count": 250,
   "metadata": {},
   "outputs": [],
   "source": [
    "%%capture\n",
    "%pip install pandas"
   ]
  },
  {
   "cell_type": "code",
   "execution_count": 251,
   "metadata": {},
   "outputs": [],
   "source": [
    "import pandas as pd"
   ]
  },
  {
   "cell_type": "code",
   "execution_count": 252,
   "metadata": {},
   "outputs": [],
   "source": [
    "df = pd.read_csv('raw/combined-original.csv')"
   ]
  },
  {
   "cell_type": "code",
   "execution_count": 253,
   "metadata": {},
   "outputs": [],
   "source": [
    "def show_info(series: pd.Series):\n",
    "\tprint(series.describe())\n",
    "\tprint(series.value_counts())\n",
    "\tprint(series.isnull().sum())"
   ]
  },
  {
   "cell_type": "code",
   "execution_count": 254,
   "metadata": {},
   "outputs": [
    {
     "data": {
      "text/plain": [
       "Unnamed: 0             int64\n",
       "Year                   int64\n",
       "Month                  int64\n",
       "DayofMonth             int64\n",
       "DayOfWeek              int64\n",
       "DepTime              float64\n",
       "CRSDepTime             int64\n",
       "ArrTime              float64\n",
       "CRSArrTime             int64\n",
       "UniqueCarrier         object\n",
       "FlightNum              int64\n",
       "TailNum               object\n",
       "ActualElapsedTime    float64\n",
       "CRSElapsedTime       float64\n",
       "AirTime              float64\n",
       "ArrDelay             float64\n",
       "DepDelay             float64\n",
       "Origin                object\n",
       "Dest                  object\n",
       "Distance             float64\n",
       "TaxiIn               float64\n",
       "TaxiOut              float64\n",
       "Cancelled              int64\n",
       "CancellationCode     float64\n",
       "Diverted               int64\n",
       "CarrierDelay         float64\n",
       "WeatherDelay         float64\n",
       "NASDelay             float64\n",
       "SecurityDelay        float64\n",
       "LateAircraftDelay    float64\n",
       "dtype: object"
      ]
     },
     "execution_count": 254,
     "metadata": {},
     "output_type": "execute_result"
    }
   ],
   "source": [
    "df.dtypes"
   ]
  },
  {
   "cell_type": "code",
   "execution_count": 255,
   "metadata": {},
   "outputs": [
    {
     "name": "stdout",
     "output_type": "stream",
     "text": [
      "   Unnamed: 0  Year  Month  DayofMonth  DayOfWeek  DepTime  CRSDepTime  \\\n",
      "0           0  1987     11          28          6   2042.0        2025   \n",
      "1           1  1987     10          22          4   1805.0        1800   \n",
      "2           2  1987     11          19          4    657.0         655   \n",
      "3           3  1987     11          23          1   1848.0        1835   \n",
      "4           4  1987     11          25          3    703.0         655   \n",
      "\n",
      "   ArrTime  CRSArrTime UniqueCarrier  ...  TaxiIn TaxiOut  Cancelled  \\\n",
      "0   2105.0        2053            PI  ...     NaN     NaN          0   \n",
      "1   1933.0        1905            HP  ...     NaN     NaN          0   \n",
      "2    821.0         804            PI  ...     NaN     NaN          0   \n",
      "3   1944.0        1920            DL  ...     NaN     NaN          0   \n",
      "4    828.0         821            AA  ...     NaN     NaN          0   \n",
      "\n",
      "   CancellationCode  Diverted  CarrierDelay  WeatherDelay NASDelay  \\\n",
      "0               NaN         0           NaN           NaN      NaN   \n",
      "1               NaN         0           NaN           NaN      NaN   \n",
      "2               NaN         0           NaN           NaN      NaN   \n",
      "3               NaN         0           NaN           NaN      NaN   \n",
      "4               NaN         0           NaN           NaN      NaN   \n",
      "\n",
      "  SecurityDelay  LateAircraftDelay  \n",
      "0           NaN                NaN  \n",
      "1           NaN                NaN  \n",
      "2           NaN                NaN  \n",
      "3           NaN                NaN  \n",
      "4           NaN                NaN  \n",
      "\n",
      "[5 rows x 30 columns]\n"
     ]
    }
   ],
   "source": [
    "print(df.head())"
   ]
  },
  {
   "cell_type": "code",
   "execution_count": 256,
   "metadata": {},
   "outputs": [],
   "source": [
    "df.drop(['Unnamed: 0'], axis=1, inplace=True)"
   ]
  },
  {
   "cell_type": "code",
   "execution_count": 257,
   "metadata": {},
   "outputs": [],
   "source": [
    "df.rename(columns={'DayOfWeek': 'DiaSemana', 'UniqueCarrier': 'CompanhiaResponsavel'}, inplace=True)"
   ]
  },
  {
   "cell_type": "code",
   "execution_count": 258,
   "metadata": {},
   "outputs": [],
   "source": [
    "df.rename(columns={'DayofMonth': 'Day'}, inplace=True)\n",
    "df['Data'] = pd.to_datetime(df[['Year', 'Month', 'Day']])\n",
    "df.drop(['Year', 'Month', 'Day'], axis=1, inplace=True)"
   ]
  },
  {
   "cell_type": "code",
   "execution_count": 259,
   "metadata": {},
   "outputs": [
    {
     "name": "stdout",
     "output_type": "stream",
     "text": [
      "0\n"
     ]
    }
   ],
   "source": [
    "# quero ver se Data possui algum NaN\n",
    "\n",
    "print(df['Data'].isnull().sum())\n",
    "\n",
    "# não possui"
   ]
  },
  {
   "cell_type": "code",
   "execution_count": 260,
   "metadata": {},
   "outputs": [],
   "source": [
    "# Acabei percebendo que CancellationCode só possui valores NaN\n",
    "\n",
    "df.drop(['CancellationCode'], axis=1, inplace=True)"
   ]
  },
  {
   "cell_type": "code",
   "execution_count": 261,
   "metadata": {},
   "outputs": [],
   "source": [
    "# Também reparei que consequentemente nenhum voo foi cancelado\n",
    "\n",
    "df.drop(['Cancelled'], axis=1, inplace=True)"
   ]
  },
  {
   "cell_type": "code",
   "execution_count": 262,
   "metadata": {},
   "outputs": [],
   "source": [
    "# Existem colunas vindo como float porém no formato hhmm, bora transformar em hh:mm e manter os NaN como NaN\n",
    "\n",
    "def format_time(series):\n",
    "    def process(val):\n",
    "        if pd.isna(val):\n",
    "            return None, None\n",
    "        onlynumber = f'{int(val):04d}'\n",
    "        return f'{onlynumber[:2]}:{onlynumber[2:]}:00', int(onlynumber[:2]) * 60 + int(onlynumber[2:])\n",
    "    \n",
    "    readable, number = zip(*series.apply(process))\n",
    "    \n",
    "    return {\n",
    "        'readable': pd.Series(readable, index=series.index),\n",
    "        'number': pd.Series(number, index=series.index)\n",
    "    }"
   ]
  },
  {
   "cell_type": "code",
   "execution_count": 263,
   "metadata": {},
   "outputs": [],
   "source": [
    "depTime = format_time(df['DepTime'])\n",
    "df['HoraPartida'] = depTime['readable']\n",
    "df['HoraPartidaMinutos'] = depTime['number']\n",
    "\n",
    "crsDepTime = format_time(df['CRSDepTime'])\n",
    "df['HoraPartidaPrevista'] = crsDepTime['readable']\n",
    "df['HoraPartidaPrevistaMinutos'] = crsDepTime['number']\n",
    "\n",
    "arrTime = format_time(df['ArrTime'])\n",
    "df['HoraChegada'] = arrTime['readable']\n",
    "df['HoraChegadaMinutos'] = arrTime['number']\n",
    "\n",
    "crsArrTime = format_time(df['CRSArrTime'])\n",
    "df['HoraChegadaPrevista'] = crsArrTime['readable']\n",
    "df['HoraChegadaPrevistaMinutos'] = crsArrTime['number']\n",
    "df.drop(['DepTime', 'CRSDepTime', 'ArrTime', 'CRSArrTime'], axis=1, inplace=True)"
   ]
  },
  {
   "cell_type": "code",
   "execution_count": 264,
   "metadata": {},
   "outputs": [
    {
     "data": {
      "text/html": [
       "<div>\n",
       "<style scoped>\n",
       "    .dataframe tbody tr th:only-of-type {\n",
       "        vertical-align: middle;\n",
       "    }\n",
       "\n",
       "    .dataframe tbody tr th {\n",
       "        vertical-align: top;\n",
       "    }\n",
       "\n",
       "    .dataframe thead th {\n",
       "        text-align: right;\n",
       "    }\n",
       "</style>\n",
       "<table border=\"1\" class=\"dataframe\">\n",
       "  <thead>\n",
       "    <tr style=\"text-align: right;\">\n",
       "      <th></th>\n",
       "      <th>TaxiIn</th>\n",
       "      <th>TaxiOut</th>\n",
       "      <th>CarrierDelay</th>\n",
       "      <th>WeatherDelay</th>\n",
       "      <th>NASDelay</th>\n",
       "      <th>SecurityDelay</th>\n",
       "      <th>LateAircraftDelay</th>\n",
       "      <th>HoraPartidaPrevista</th>\n",
       "      <th>HoraPartida</th>\n",
       "      <th>HoraChegadaPrevista</th>\n",
       "      <th>HoraChegada</th>\n",
       "      <th>ArrDelay</th>\n",
       "      <th>DepDelay</th>\n",
       "    </tr>\n",
       "  </thead>\n",
       "  <tbody>\n",
       "    <tr>\n",
       "      <th>0</th>\n",
       "      <td>NaN</td>\n",
       "      <td>NaN</td>\n",
       "      <td>NaN</td>\n",
       "      <td>NaN</td>\n",
       "      <td>NaN</td>\n",
       "      <td>NaN</td>\n",
       "      <td>NaN</td>\n",
       "      <td>20:25:00</td>\n",
       "      <td>20:42:00</td>\n",
       "      <td>20:53:00</td>\n",
       "      <td>21:05:00</td>\n",
       "      <td>12.0</td>\n",
       "      <td>17.0</td>\n",
       "    </tr>\n",
       "    <tr>\n",
       "      <th>1</th>\n",
       "      <td>NaN</td>\n",
       "      <td>NaN</td>\n",
       "      <td>NaN</td>\n",
       "      <td>NaN</td>\n",
       "      <td>NaN</td>\n",
       "      <td>NaN</td>\n",
       "      <td>NaN</td>\n",
       "      <td>18:00:00</td>\n",
       "      <td>18:05:00</td>\n",
       "      <td>19:05:00</td>\n",
       "      <td>19:33:00</td>\n",
       "      <td>28.0</td>\n",
       "      <td>5.0</td>\n",
       "    </tr>\n",
       "    <tr>\n",
       "      <th>2</th>\n",
       "      <td>NaN</td>\n",
       "      <td>NaN</td>\n",
       "      <td>NaN</td>\n",
       "      <td>NaN</td>\n",
       "      <td>NaN</td>\n",
       "      <td>NaN</td>\n",
       "      <td>NaN</td>\n",
       "      <td>06:55:00</td>\n",
       "      <td>06:57:00</td>\n",
       "      <td>08:04:00</td>\n",
       "      <td>08:21:00</td>\n",
       "      <td>17.0</td>\n",
       "      <td>2.0</td>\n",
       "    </tr>\n",
       "    <tr>\n",
       "      <th>3</th>\n",
       "      <td>NaN</td>\n",
       "      <td>NaN</td>\n",
       "      <td>NaN</td>\n",
       "      <td>NaN</td>\n",
       "      <td>NaN</td>\n",
       "      <td>NaN</td>\n",
       "      <td>NaN</td>\n",
       "      <td>18:35:00</td>\n",
       "      <td>18:48:00</td>\n",
       "      <td>19:20:00</td>\n",
       "      <td>19:44:00</td>\n",
       "      <td>24.0</td>\n",
       "      <td>13.0</td>\n",
       "    </tr>\n",
       "    <tr>\n",
       "      <th>4</th>\n",
       "      <td>NaN</td>\n",
       "      <td>NaN</td>\n",
       "      <td>NaN</td>\n",
       "      <td>NaN</td>\n",
       "      <td>NaN</td>\n",
       "      <td>NaN</td>\n",
       "      <td>NaN</td>\n",
       "      <td>06:55:00</td>\n",
       "      <td>07:03:00</td>\n",
       "      <td>08:21:00</td>\n",
       "      <td>08:28:00</td>\n",
       "      <td>7.0</td>\n",
       "      <td>8.0</td>\n",
       "    </tr>\n",
       "    <tr>\n",
       "      <th>...</th>\n",
       "      <td>...</td>\n",
       "      <td>...</td>\n",
       "      <td>...</td>\n",
       "      <td>...</td>\n",
       "      <td>...</td>\n",
       "      <td>...</td>\n",
       "      <td>...</td>\n",
       "      <td>...</td>\n",
       "      <td>...</td>\n",
       "      <td>...</td>\n",
       "      <td>...</td>\n",
       "      <td>...</td>\n",
       "      <td>...</td>\n",
       "    </tr>\n",
       "    <tr>\n",
       "      <th>21995</th>\n",
       "      <td>5.0</td>\n",
       "      <td>10.0</td>\n",
       "      <td>NaN</td>\n",
       "      <td>NaN</td>\n",
       "      <td>NaN</td>\n",
       "      <td>NaN</td>\n",
       "      <td>NaN</td>\n",
       "      <td>07:30:00</td>\n",
       "      <td>07:31:00</td>\n",
       "      <td>09:05:00</td>\n",
       "      <td>09:06:00</td>\n",
       "      <td>1.0</td>\n",
       "      <td>1.0</td>\n",
       "    </tr>\n",
       "    <tr>\n",
       "      <th>21996</th>\n",
       "      <td>2.0</td>\n",
       "      <td>8.0</td>\n",
       "      <td>NaN</td>\n",
       "      <td>NaN</td>\n",
       "      <td>NaN</td>\n",
       "      <td>NaN</td>\n",
       "      <td>NaN</td>\n",
       "      <td>15:30:00</td>\n",
       "      <td>15:41:00</td>\n",
       "      <td>16:30:00</td>\n",
       "      <td>16:36:00</td>\n",
       "      <td>6.0</td>\n",
       "      <td>11.0</td>\n",
       "    </tr>\n",
       "    <tr>\n",
       "      <th>21997</th>\n",
       "      <td>6.0</td>\n",
       "      <td>28.0</td>\n",
       "      <td>129.0</td>\n",
       "      <td>0.0</td>\n",
       "      <td>0.0</td>\n",
       "      <td>0.0</td>\n",
       "      <td>0.0</td>\n",
       "      <td>12:00:00</td>\n",
       "      <td>14:22:00</td>\n",
       "      <td>16:50:00</td>\n",
       "      <td>18:59:00</td>\n",
       "      <td>129.0</td>\n",
       "      <td>142.0</td>\n",
       "    </tr>\n",
       "    <tr>\n",
       "      <th>21998</th>\n",
       "      <td>2.0</td>\n",
       "      <td>11.0</td>\n",
       "      <td>NaN</td>\n",
       "      <td>NaN</td>\n",
       "      <td>NaN</td>\n",
       "      <td>NaN</td>\n",
       "      <td>NaN</td>\n",
       "      <td>16:40:00</td>\n",
       "      <td>16:44:00</td>\n",
       "      <td>17:45:00</td>\n",
       "      <td>17:46:00</td>\n",
       "      <td>1.0</td>\n",
       "      <td>4.0</td>\n",
       "    </tr>\n",
       "    <tr>\n",
       "      <th>21999</th>\n",
       "      <td>23.0</td>\n",
       "      <td>9.0</td>\n",
       "      <td>101.0</td>\n",
       "      <td>0.0</td>\n",
       "      <td>11.0</td>\n",
       "      <td>0.0</td>\n",
       "      <td>0.0</td>\n",
       "      <td>16:32:00</td>\n",
       "      <td>18:13:00</td>\n",
       "      <td>18:00:00</td>\n",
       "      <td>19:52:00</td>\n",
       "      <td>112.0</td>\n",
       "      <td>101.0</td>\n",
       "    </tr>\n",
       "  </tbody>\n",
       "</table>\n",
       "<p>22000 rows × 13 columns</p>\n",
       "</div>"
      ],
      "text/plain": [
       "       TaxiIn  TaxiOut  CarrierDelay  WeatherDelay  NASDelay  SecurityDelay  \\\n",
       "0         NaN      NaN           NaN           NaN       NaN            NaN   \n",
       "1         NaN      NaN           NaN           NaN       NaN            NaN   \n",
       "2         NaN      NaN           NaN           NaN       NaN            NaN   \n",
       "3         NaN      NaN           NaN           NaN       NaN            NaN   \n",
       "4         NaN      NaN           NaN           NaN       NaN            NaN   \n",
       "...       ...      ...           ...           ...       ...            ...   \n",
       "21995     5.0     10.0           NaN           NaN       NaN            NaN   \n",
       "21996     2.0      8.0           NaN           NaN       NaN            NaN   \n",
       "21997     6.0     28.0         129.0           0.0       0.0            0.0   \n",
       "21998     2.0     11.0           NaN           NaN       NaN            NaN   \n",
       "21999    23.0      9.0         101.0           0.0      11.0            0.0   \n",
       "\n",
       "       LateAircraftDelay HoraPartidaPrevista HoraPartida HoraChegadaPrevista  \\\n",
       "0                    NaN            20:25:00    20:42:00            20:53:00   \n",
       "1                    NaN            18:00:00    18:05:00            19:05:00   \n",
       "2                    NaN            06:55:00    06:57:00            08:04:00   \n",
       "3                    NaN            18:35:00    18:48:00            19:20:00   \n",
       "4                    NaN            06:55:00    07:03:00            08:21:00   \n",
       "...                  ...                 ...         ...                 ...   \n",
       "21995                NaN            07:30:00    07:31:00            09:05:00   \n",
       "21996                NaN            15:30:00    15:41:00            16:30:00   \n",
       "21997                0.0            12:00:00    14:22:00            16:50:00   \n",
       "21998                NaN            16:40:00    16:44:00            17:45:00   \n",
       "21999                0.0            16:32:00    18:13:00            18:00:00   \n",
       "\n",
       "      HoraChegada  ArrDelay  DepDelay  \n",
       "0        21:05:00      12.0      17.0  \n",
       "1        19:33:00      28.0       5.0  \n",
       "2        08:21:00      17.0       2.0  \n",
       "3        19:44:00      24.0      13.0  \n",
       "4        08:28:00       7.0       8.0  \n",
       "...           ...       ...       ...  \n",
       "21995    09:06:00       1.0       1.0  \n",
       "21996    16:36:00       6.0      11.0  \n",
       "21997    18:59:00     129.0     142.0  \n",
       "21998    17:46:00       1.0       4.0  \n",
       "21999    19:52:00     112.0     101.0  \n",
       "\n",
       "[22000 rows x 13 columns]"
      ]
     },
     "execution_count": 264,
     "metadata": {},
     "output_type": "execute_result"
    }
   ],
   "source": [
    "# Vamos checar a relação entre esses valores:\n",
    "\n",
    "df[['TaxiIn', 'TaxiOut', 'CarrierDelay', 'WeatherDelay', 'NASDelay', 'SecurityDelay', 'LateAircraftDelay',  'HoraPartidaPrevista', 'HoraPartida', 'HoraChegadaPrevista', 'HoraChegada', 'ArrDelay', 'DepDelay']]\n",
    "\n",
    "# Como podemos:\n",
    "# - Os valores de atraso podem dizer respeito tanto ao atraso à hora de partida quanto ao de chegada\n",
    "# - Também existe um delay adicional não calculado\n",
    "# - Os valores de TaxiIn e TaxiOut já estão inclusos na hora prevista, ou seja, não são atrasos"
   ]
  },
  {
   "cell_type": "code",
   "execution_count": 265,
   "metadata": {},
   "outputs": [],
   "source": [
    "df.rename(columns={\n",
    "    'CarrierDelay': 'AtrasoCompanhia',\n",
    "\t'WeatherDelay': 'AtrasoClimaTempo',\n",
    "\t'NASDelay': 'AtrasoSistemaAereo',\n",
    "\t'SecurityDelay': 'AtrasoSeguranca',\n",
    "\t'LateAircraftDelay': 'AtrasoAeronave',\n",
    "\t'ArrDelay': 'AtrasoChegada',\n",
    "\t'DepDelay': 'AtrasoPartida'\n",
    "}, inplace=True)\n",
    "df.fillna({\n",
    "    'AtrasoCompanhia': 0,\n",
    "\t'AtrasoClimaTempo': 0,\n",
    "\t'AtrasoSistemaAereo': 0,\n",
    "\t'AtrasoSeguranca': 0,\n",
    "\t'AtrasoAeronave': 0,\n",
    "\t'AtrasoChegada': 0,\n",
    "\t'AtrasoPartida': 0\n",
    "}, inplace=True)"
   ]
  },
  {
   "cell_type": "code",
   "execution_count": 266,
   "metadata": {},
   "outputs": [],
   "source": [
    "df.rename(columns={\n",
    "    'Origin': 'AeroportoOrigem',\n",
    "    'Dest': 'AeroportoDestino',\n",
    "    'Diverted': 'DesviouRota',\n",
    "    'AirTime': 'TempoVoando',\n",
    "    'ActualElapsedTime': 'TempoTotal',\n",
    "    'CRSElapsedTime': 'TempoTotalPrevisto',\n",
    "    'Distance': 'Distancia',\n",
    "    'TailNum': 'NumeroAeronave'\n",
    "}, inplace=True)\n",
    "df.drop(['FlightNum'], axis=1, inplace=True)"
   ]
  },
  {
   "cell_type": "code",
   "execution_count": 267,
   "metadata": {},
   "outputs": [
    {
     "data": {
      "text/plain": [
       "Index(['DiaSemana', 'CompanhiaResponsavel', 'NumeroAeronave', 'TempoTotal',\n",
       "       'TempoTotalPrevisto', 'TempoVoando', 'AtrasoChegada', 'AtrasoPartida',\n",
       "       'AeroportoOrigem', 'AeroportoDestino', 'Distancia', 'TaxiIn', 'TaxiOut',\n",
       "       'DesviouRota', 'AtrasoCompanhia', 'AtrasoClimaTempo',\n",
       "       'AtrasoSistemaAereo', 'AtrasoSeguranca', 'AtrasoAeronave', 'Data',\n",
       "       'HoraPartida', 'HoraPartidaMinutos', 'HoraPartidaPrevista',\n",
       "       'HoraPartidaPrevistaMinutos', 'HoraChegada', 'HoraChegadaMinutos',\n",
       "       'HoraChegadaPrevista', 'HoraChegadaPrevistaMinutos'],\n",
       "      dtype='object')"
      ]
     },
     "execution_count": 267,
     "metadata": {},
     "output_type": "execute_result"
    }
   ],
   "source": [
    "df.columns"
   ]
  },
  {
   "cell_type": "code",
   "execution_count": 268,
   "metadata": {},
   "outputs": [
    {
     "data": {
      "text/plain": [
       "DiaSemana                              int64\n",
       "CompanhiaResponsavel                  object\n",
       "NumeroAeronave                        object\n",
       "TempoTotal                           float64\n",
       "TempoTotalPrevisto                   float64\n",
       "TempoVoando                          float64\n",
       "AtrasoChegada                        float64\n",
       "AtrasoPartida                        float64\n",
       "AeroportoOrigem                       object\n",
       "AeroportoDestino                      object\n",
       "Distancia                            float64\n",
       "TaxiIn                               float64\n",
       "TaxiOut                              float64\n",
       "DesviouRota                            int64\n",
       "AtrasoCompanhia                      float64\n",
       "AtrasoClimaTempo                     float64\n",
       "AtrasoSistemaAereo                   float64\n",
       "AtrasoSeguranca                      float64\n",
       "AtrasoAeronave                       float64\n",
       "Data                          datetime64[ns]\n",
       "HoraPartida                           object\n",
       "HoraPartidaMinutos                     int64\n",
       "HoraPartidaPrevista                   object\n",
       "HoraPartidaPrevistaMinutos             int64\n",
       "HoraChegada                           object\n",
       "HoraChegadaMinutos                   float64\n",
       "HoraChegadaPrevista                   object\n",
       "HoraChegadaPrevistaMinutos             int64\n",
       "dtype: object"
      ]
     },
     "execution_count": 268,
     "metadata": {},
     "output_type": "execute_result"
    }
   ],
   "source": [
    "df.dtypes"
   ]
  },
  {
   "cell_type": "code",
   "execution_count": 269,
   "metadata": {},
   "outputs": [],
   "source": [
    "df.to_csv('trusted/combined.csv', index=False)"
   ]
  }
 ],
 "metadata": {
  "kernelspec": {
   "display_name": "Python 3",
   "language": "python",
   "name": "python3"
  },
  "language_info": {
   "codemirror_mode": {
    "name": "ipython",
    "version": 3
   },
   "file_extension": ".py",
   "mimetype": "text/x-python",
   "name": "python",
   "nbconvert_exporter": "python",
   "pygments_lexer": "ipython3",
   "version": "3.12.6"
  }
 },
 "nbformat": 4,
 "nbformat_minor": 2
}
